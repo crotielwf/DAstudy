{
 "cells": [
  {
   "cell_type": "code",
   "execution_count": 48,
   "metadata": {},
   "outputs": [],
   "source": [
    "import tensorflow as tf\n",
    "import os\n",
    "import numpy as np"
   ]
  },
  {
   "cell_type": "code",
   "execution_count": 2,
   "metadata": {},
   "outputs": [
    {
     "name": "stdout",
     "output_type": "stream",
     "text": [
      "['trainimg', 'imgsize', 'categories', 'trainlabel', 'testimg', 'testlabel', 'use_gray']\n"
     ]
    }
   ],
   "source": [
    "cwd = os.getcwd()\n",
    "loadpath = cwd + '\\\\animal\\\\custom_data.npz'\n",
    "loadpath\n",
    "l = np.load(loadpath)\n",
    "print(l.files)\n"
   ]
  },
  {
   "cell_type": "code",
   "execution_count": 3,
   "metadata": {},
   "outputs": [],
   "source": [
    "trainimg = l['trainimg']\n",
    "trainlabel = l['trainlabel']\n",
    "testimg = l['testimg']\n",
    "testlabel = l['testlabel']\n",
    "imgsize = l['imgsize']\n",
    "use_gray = l['use_gray']\n",
    "if use_gray:\n",
    "    nimgch = 1\n",
    "else : \n",
    "    nimgch = 3\n",
    "   \n",
    "ntrain = trainimg.shape[0]\n",
    "nclass = trainlabel.shape[1]\n",
    "dim = trainimg.shape[1]\n",
    "ntest = testimg.shape[0]\n",
    "\n",
    "n_input = dim\n",
    "n_channel = 64\n",
    "n_classes = nclass\n"
   ]
  },
  {
   "cell_type": "code",
   "execution_count": 4,
   "metadata": {
    "collapsed": true
   },
   "outputs": [],
   "source": [
    "x = tf.placeholder('float', [None, n_input])\n",
    "y = tf.placeholder('float', [None, n_classes])\n",
    "\n",
    "stddev = 0.1\n",
    "weights = {\n",
    "    'c1' : tf.Variable(tf.random_normal([7,7,nimgch,n_channel], stddev=stddev)),\n",
    "    'd1' : tf.Variable(tf.random_normal([n_channel*imgsize[0]*imgsize[1]//4, n_classes], stddev=stddev))#왜 //4 하지?\n",
    "}\n",
    "\n",
    "biases = {\n",
    "    'c1' : tf.Variable(tf.random_normal([n_channel], stddev=stddev)),\n",
    "    'd1' : tf.Variable(tf.random_normal([n_classes], stddev=stddev))\n",
    "}\n"
   ]
  },
  {
   "cell_type": "code",
   "execution_count": 5,
   "metadata": {
    "collapsed": true
   },
   "outputs": [],
   "source": [
    "def CNN(_x, _w, _b):\n",
    "    _x_r = tf.reshape(_x, shape=[-1, imgsize[0], imgsize[1], nimgch])\n",
    "    _conv1 = tf.nn.conv2d(_x_r, _w['c1'], strides=[1,1,1,1], padding='SAME')\n",
    "    _conv2 = tf.nn.bias_add(_conv1, _b['c1'])\n",
    "    _conv3 = tf.nn.relu(_conv2)\n",
    "    _pool = tf.nn.max_pool(_conv3, ksize=[1,2,2,1], strides=[1,2,2,1], padding='SAME')\n",
    "    _dense = tf.reshape(_pool, [-1, _w['d1'].get_shape().as_list()[0]])\n",
    "    _logit = tf.add(tf.matmul(_dense, _w['d1']), _b['d1'])\n",
    "    _out = {\n",
    "        'x_r':_x_r, 'conv1':_conv1, 'conv2':_conv2, 'conv3':_conv3, 'pool':_pool, 'dense':_dense, 'logit':_logit\n",
    "    }\n",
    "    return _out\n"
   ]
  },
  {
   "cell_type": "code",
   "execution_count": 35,
   "metadata": {},
   "outputs": [
    {
     "name": "stdout",
     "output_type": "stream",
     "text": [
      "Tensor(\"Placeholder_1:0\", shape=(?, 5), dtype=float32)\n"
     ]
    }
   ],
   "source": [
    "cnnout = CNN(x, weights, biases)\n",
    "print(y)"
   ]
  },
  {
   "cell_type": "code",
   "execution_count": 39,
   "metadata": {},
   "outputs": [],
   "source": [
    "cost = tf.reduce_mean(tf.nn.softmax_cross_entropy_with_logits_v2(labels=y, logits=cnnout['logit']))\n",
    "optm = tf.train.AdamOptimizer(learning_rate=1e-2).minimize(cost)\n",
    "corr = tf.equal(tf.argmax(cnnout['logit'],1),tf.argmax(y,1))\n",
    "accr = tf.reduce_mean(tf.cast(corr, 'float'))"
   ]
  },
  {
   "cell_type": "code",
   "execution_count": 46,
   "metadata": {},
   "outputs": [],
   "source": [
    "# PARAMETERS\n",
    "training_epochs = 50\n",
    "batch_size = 100\n",
    "disp_each = 10\n",
    "plot_each = 10\n",
    "\n",
    "# LAUNCH THE GRAPH\n",
    "sess = tf.Session()\n",
    "init = tf.global_variables_initializer()\n",
    "sess.run(init)\n"
   ]
  },
  {
   "cell_type": "code",
   "execution_count": 47,
   "metadata": {},
   "outputs": [
    {
     "name": "stdout",
     "output_type": "stream",
     "text": [
      "Epoch: 010/050 cost : 1.060487449\n",
      " TRAIN ACCURACY : 0.630\n",
      "TEST ACCURACY : 0.557\n",
      "Epoch: 020/050 cost : 0.335014611\n",
      " TRAIN ACCURACY : 0.930\n",
      "TEST ACCURACY : 0.672\n",
      "Epoch: 030/050 cost : 0.044633491\n",
      " TRAIN ACCURACY : 1.000\n",
      "TEST ACCURACY : 0.689\n",
      "Epoch: 040/050 cost : 0.016341221\n",
      " TRAIN ACCURACY : 1.000\n",
      "TEST ACCURACY : 0.689\n",
      "Epoch: 050/050 cost : 0.007191923\n",
      " TRAIN ACCURACY : 1.000\n",
      "TEST ACCURACY : 0.672\n"
     ]
    }
   ],
   "source": [
    "# OPTIMIZE\n",
    "for epoch in range(training_epochs):\n",
    "    total_batch = int(ntrain/batch_size)\n",
    "    randpermlist = np.random.permutation(ntrain)\n",
    "    sum_cost = 0.\n",
    "    for i in range(total_batch):\n",
    "        randidx = randpermlist[i*batch_size:min((i+1)*batch_size, ntrain-1)]\n",
    "        batch_xs = trainimg[randidx, :]\n",
    "        batch_ys = trainlabel[randidx, :]\n",
    "        feeds = {x: batch_xs, y: batch_ys}\n",
    "        sess.run(optm, feed_dict=feeds)\n",
    "        sum_cost += sess.run(cost, feed_dict=feeds)\n",
    "    avg_cost = sum_cost / total_batch\n",
    "    \n",
    "    if (epoch+1) % disp_each == 0 or epoch == training_epochs-1:\n",
    "        print (\"Epoch: %03d/%03d cost : %.9f\" % (epoch+1, training_epochs, avg_cost))\n",
    "        feeds = {x: batch_xs, y:batch_ys}\n",
    "        train_acc = sess.run(accr, feed_dict=feeds)\n",
    "        print (\" TRAIN ACCURACY : %.3f\" % (train_acc))\n",
    "        feeds = {x: testimg, y:testlabel}\n",
    "        test_acc = sess.run(accr, feed_dict=feeds)\n",
    "        print (\"TEST ACCURACY : %.3f\" % (test_acc))\n",
    "        \n",
    "        "
   ]
  }
 ],
 "metadata": {
  "kernelspec": {
   "display_name": "Python [conda env:tensorflow]",
   "language": "python",
   "name": "conda-env-tensorflow-py"
  },
  "language_info": {
   "codemirror_mode": {
    "name": "ipython",
    "version": 3
   },
   "file_extension": ".py",
   "mimetype": "text/x-python",
   "name": "python",
   "nbconvert_exporter": "python",
   "pygments_lexer": "ipython3",
   "version": "3.5.4"
  }
 },
 "nbformat": 4,
 "nbformat_minor": 2
}
